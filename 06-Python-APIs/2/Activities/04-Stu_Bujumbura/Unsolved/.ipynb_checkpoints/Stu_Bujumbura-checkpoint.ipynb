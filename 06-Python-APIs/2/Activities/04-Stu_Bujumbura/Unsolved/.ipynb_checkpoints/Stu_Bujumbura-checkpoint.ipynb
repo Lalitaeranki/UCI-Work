{
 "cells": [
  {
   "cell_type": "code",
   "execution_count": 1,
   "metadata": {},
   "outputs": [],
   "source": [
    "# Dependencies\n",
    "import requests\n",
    "from config import api_key\n",
    "import json"
   ]
  },
  {
   "cell_type": "code",
   "execution_count": 6,
   "metadata": {},
   "outputs": [
    {
     "name": "stdout",
     "output_type": "stream",
     "text": [
      "{\n",
      "  \"base\": \"stations\",\n",
      "  \"clouds\": {\n",
      "    \"all\": 36\n",
      "  },\n",
      "  \"cod\": 200,\n",
      "  \"coord\": {\n",
      "    \"lat\": -3.36,\n",
      "    \"lon\": 29.37\n",
      "  },\n",
      "  \"dt\": 1536253506,\n",
      "  \"id\": 425378,\n",
      "  \"main\": {\n",
      "    \"grnd_level\": 857.05,\n",
      "    \"humidity\": 100,\n",
      "    \"pressure\": 857.05,\n",
      "    \"sea_level\": 1022.08,\n",
      "    \"temp\": 17.63,\n",
      "    \"temp_max\": 17.63,\n",
      "    \"temp_min\": 17.63\n",
      "  },\n",
      "  \"name\": \"Bujumbura\",\n",
      "  \"rain\": {\n",
      "    \"3h\": 0.4\n",
      "  },\n",
      "  \"sys\": {\n",
      "    \"country\": \"BI\",\n",
      "    \"message\": 0.0031,\n",
      "    \"sunrise\": 1536206333,\n",
      "    \"sunset\": 1536249752\n",
      "  },\n",
      "  \"weather\": [\n",
      "    {\n",
      "      \"description\": \"light rain\",\n",
      "      \"icon\": \"10n\",\n",
      "      \"id\": 500,\n",
      "      \"main\": \"Rain\"\n",
      "    }\n",
      "  ],\n",
      "  \"wind\": {\n",
      "    \"deg\": 13.5094,\n",
      "    \"speed\": 1.06\n",
      "  }\n",
      "}\n"
     ]
    }
   ],
   "source": [
    "# Build query URL and request your results in Celsius\n",
    "url = \"http://api.openweathermap.org/data/2.5/weather?\"\n",
    "city = \"Bujumbura\"\n",
    "units='metric'\n",
    "query_url=url+\"&appid=\"+ api_key +'&q='+city+'&units='+units\n",
    "data=requests.get(query_url).json()\n",
    "\n",
    "# Get weather data\n",
    "print(json.dumps(data,indent=2,sort_keys=True))"
   ]
  },
  {
   "cell_type": "code",
   "execution_count": 7,
   "metadata": {},
   "outputs": [
    {
     "name": "stdout",
     "output_type": "stream",
     "text": [
      "17.63\n"
     ]
    }
   ],
   "source": [
    "# Get temperature from JSON response\n",
    "temperature=data['main']['temp']\n",
    "print(temperature)"
   ]
  },
  {
   "cell_type": "code",
   "execution_count": 10,
   "metadata": {},
   "outputs": [
    {
     "name": "stdout",
     "output_type": "stream",
     "text": [
      "17.63 63.72\n"
     ]
    }
   ],
   "source": [
    "# Report temperature\n",
    "units=['metric','imperial']\n",
    "temp=[]\n",
    "for unit in units:\n",
    "   \n",
    "    query_url=url+\"&appid=\"+ api_key +'&q='+city+'&units='+unit\n",
    "    data=requests.get(query_url).json()\n",
    "    temps=data['main']['temp']\n",
    "    temp.append(temps)\n",
    "print(temp[0],temp[1])\n",
    "    "
   ]
  },
  {
   "cell_type": "code",
   "execution_count": null,
   "metadata": {},
   "outputs": [],
   "source": []
  }
 ],
 "metadata": {
  "kernelspec": {
   "display_name": "Python 3",
   "language": "python",
   "name": "python3"
  },
  "language_info": {
   "codemirror_mode": {
    "name": "ipython",
    "version": 3
   },
   "file_extension": ".py",
   "mimetype": "text/x-python",
   "name": "python",
   "nbconvert_exporter": "python",
   "pygments_lexer": "ipython3",
   "version": "3.6.5"
  },
  "varInspector": {
   "cols": {
    "lenName": 16,
    "lenType": 16,
    "lenVar": 40
   },
   "kernels_config": {
    "python": {
     "delete_cmd_postfix": "",
     "delete_cmd_prefix": "del ",
     "library": "var_list.py",
     "varRefreshCmd": "print(var_dic_list())"
    },
    "r": {
     "delete_cmd_postfix": ") ",
     "delete_cmd_prefix": "rm(",
     "library": "var_list.r",
     "varRefreshCmd": "cat(var_dic_list()) "
    }
   },
   "types_to_exclude": [
    "module",
    "function",
    "builtin_function_or_method",
    "instance",
    "_Feature"
   ],
   "window_display": false
  }
 },
 "nbformat": 4,
 "nbformat_minor": 2
}
