{
 "cells": [
  {
   "cell_type": "code",
   "execution_count": 1,
   "metadata": {},
   "outputs": [],
   "source": [
    "# Dependencies\n",
    "import json\n",
    "import requests "
   ]
  },
  {
   "cell_type": "code",
   "execution_count": 6,
   "metadata": {},
   "outputs": [
    {
     "name": "stdout",
     "output_type": "stream",
     "text": [
      "[\n",
      "  {\n",
      "    \"__v\": 0,\n",
      "    \"_id\": \"5b9148132e6d310014419a78\",\n",
      "    \"date\": \"2018-09-06T15:30:27.176Z\",\n",
      "    \"headline\": \"36 Hours in Paris: On the Seine\",\n",
      "    \"saved\": true,\n",
      "    \"summary\": \"The river doesn\\u2019t just wind through the heart of Paris. It is the heart. Where to dine, drink and play along the photogenic waterway, with pit stops for art, shopping and simply gazing.\",\n",
      "    \"url\": \"https://www.nytimes.com/2018/09/06/travel/what-to-do-in-paris-on-the-seine.html\"\n",
      "  },\n",
      "  {\n",
      "    \"__v\": 0,\n",
      "    \"_id\": \"5b9148132e6d310014419a77\",\n",
      "    \"date\": \"2018-09-06T15:30:27.176Z\",\n",
      "    \"headline\": \"A Darker, Deeper Jim Carrey Returns to TV With \\u2018Kidding\\u2019\",\n",
      "    \"saved\": false,\n",
      "    \"summary\": \"Mr. Carrey, the beloved funnyman of \\u201cAce Ventura: Pet Detective\\u201d and \\u201cDumb and Dumber\\u201d fame, is back in his first ongoing TV role since \\u201cIn Living Color.\\u201d But he\\u2019s not in a laughing mood.\",\n",
      "    \"url\": \"https://www.nytimes.com/2018/09/06/arts/television/jim-carrey-kidding-showtime.html\"\n",
      "  },\n",
      "  {\n",
      "    \"__v\": 0,\n",
      "    \"_id\": \"5b9148132e6d310014419a76\",\n",
      "    \"date\": \"2018-09-06T15:30:27.175Z\",\n",
      "    \"headline\": \"Modeling in the #TimesUp Era\",\n",
      "    \"saved\": true,\n",
      "    \"summary\": \"There are new measures to safeguard young women from predatory behavior, but a wholesale change in the industry remains elusive.\",\n",
      "    \"url\": \"https://www.nytimes.com/2018/09/06/fashion/models-me-too-times-up.html\"\n",
      "  },\n",
      "  {\n",
      "    \"__v\": 0,\n",
      "    \"_id\": \"5b9148132e6d310014419a75\",\n",
      "    \"date\": \"2018-09-06T15:30:27.175Z\",\n",
      "    \"headline\": \"No More Grandstanding. Ask Kavanaugh Better Questions.\",\n",
      "    \"saved\": false,\n",
      "    \"summary\": \"Justices rarely perform the way partisans and the news media expect them to.\",\n",
      "    \"url\": \"https://www.nytimes.com/2018/09/06/opinion/brett-kavanaugh-supreme-court-confirmation.html\"\n",
      "  },\n",
      "  {\n",
      "    \"__v\": 0,\n",
      "    \"_id\": \"5b9148132e6d310014419a73\",\n",
      "    \"date\": \"2018-09-06T15:30:27.174Z\",\n",
      "    \"headline\": \"A Move to Bypass Restrictions on Holding Migrant Children\",\n",
      "    \"saved\": true,\n",
      "    \"summary\": \"The Trump administration says it will adopt regulations to close a \\u201clegal loophole\\u201d restricting the detention of migrant children.\",\n",
      "    \"url\": \"https://www.nytimes.com/2018/09/06/us/trump-flores-settlement-regulations.html\"\n",
      "  },\n",
      "  {\n",
      "    \"__v\": 0,\n",
      "    \"_id\": \"5b9148132e6d310014419a74\",\n",
      "    \"date\": \"2018-09-06T15:30:27.174Z\",\n",
      "    \"headline\": \"Trump and the Koch Brothers Are Working in Concert\",\n",
      "    \"saved\": false,\n",
      "    \"summary\": \"They disagree about trade, tariffs and immigration, but don\\u2019t be fooled. Neither side can get what it really wants without help from the other.\",\n",
      "    \"url\": \"https://www.nytimes.com/2018/09/06/opinion/trump-koch-brothers-alliance.html\"\n",
      "  },\n",
      "  {\n",
      "    \"__v\": 0,\n",
      "    \"_id\": \"5b9148132e6d310014419a72\",\n",
      "    \"date\": \"2018-09-06T15:30:27.172Z\",\n",
      "    \"headline\": \"Day 3: Abortion Documents Take Center Stage\",\n",
      "    \"saved\": false,\n",
      "    \"summary\": \"President Trump\\u2019s nominee to the Supreme Court, Judge Kavanaugh, faces his third day of confirmation hearings on Thursday.\",\n",
      "    \"url\": \"https://www.nytimes.com/2018/09/06/us/politics/kavanaugh-hearing-confirmation.html\"\n",
      "  },\n",
      "  {\n",
      "    \"__v\": 0,\n",
      "    \"_id\": \"5b9148132e6d310014419a71\",\n",
      "    \"date\": \"2018-09-06T15:30:27.171Z\",\n",
      "    \"headline\": \"From Opinion: I Am Part of the Resistance Inside the Trump Administration\",\n",
      "    \"saved\": false,\n",
      "    \"summary\": \"I work for the president, but like-minded colleagues and I have vowed to thwart parts of his agenda and his worst inclinations, our anonymous contributor writes.\",\n",
      "    \"url\": \"https://www.nytimes.com/2018/09/05/opinion/trump-white-house-anonymous-resistance.html\"\n",
      "  },\n",
      "  {\n",
      "    \"__v\": 0,\n",
      "    \"_id\": \"5b9148132e6d310014419a70\",\n",
      "    \"date\": \"2018-09-06T15:30:27.170Z\",\n",
      "    \"headline\": \"Got a confidential news tip?\",\n",
      "    \"saved\": false,\n",
      "    \"summary\": \"Do you have the next big story? Share it with our journalists.\",\n",
      "    \"url\": \"https://www.nytimes.comhttps://www.nytimes.com/tips\"\n",
      "  },\n",
      "  {\n",
      "    \"__v\": 0,\n",
      "    \"_id\": \"5b9148132e6d310014419a6f\",\n",
      "    \"date\": \"2018-09-06T15:30:27.169Z\",\n",
      "    \"headline\": \"Listen to \\u2018The Daily\\u2019\",\n",
      "    \"saved\": false,\n",
      "    \"summary\": \"An anonymous Trump administration official writes about resistance.\",\n",
      "    \"url\": \"https://www.nytimes.com/2018/09/06/podcasts/the-daily/trump-administration-official-anonymous-op-ed.html\"\n",
      "  },\n",
      "  {\n",
      "    \"__v\": 0,\n",
      "    \"_id\": \"5b9148132e6d310014419a6e\",\n",
      "    \"date\": \"2018-09-06T15:30:27.168Z\",\n",
      "    \"headline\": \"Your Thursday Briefing\",\n",
      "    \"saved\": false,\n",
      "    \"summary\": \"Here\\u2019s what you need to know to start your day.\",\n",
      "    \"url\": \"https://www.nytimes.com/2018/09/06/briefing/donald-trump-brett-kavanaugh-theranos.html\"\n",
      "  }\n",
      "]\n"
     ]
    }
   ],
   "source": [
    "# Specify the URL\n",
    "url='http://nyt-mongo-scraper.herokuapp.com/api/headlines'\n",
    "# Make request and store response\n",
    "response=requests.get(url)\n",
    "data=response.json()\n",
    "print(json.dumps(data,indent=2,sort_keys=True))"
   ]
  },
  {
   "cell_type": "code",
   "execution_count": null,
   "metadata": {
    "collapsed": true
   },
   "outputs": [],
   "source": [
    "# JSON-ify response"
   ]
  },
  {
   "cell_type": "code",
   "execution_count": 11,
   "metadata": {
    "scrolled": true
   },
   "outputs": [
    {
     "name": "stdout",
     "output_type": "stream",
     "text": [
      "11\n",
      "The First article is:{\n",
      "  \"saved\": true,\n",
      "  \"_id\": \"5b9148132e6d310014419a78\",\n",
      "  \"headline\": \"36 Hours in Paris: On the Seine\",\n",
      "  \"summary\": \"The river doesn\\u2019t just wind through the heart of Paris. It is the heart. Where to dine, drink and play along the photogenic waterway, with pit stops for art, shopping and simply gazing.\",\n",
      "  \"url\": \"https://www.nytimes.com/2018/09/06/travel/what-to-do-in-paris-on-the-seine.html\",\n",
      "  \"date\": \"2018-09-06T15:30:27.176Z\",\n",
      "  \"__v\": 0\n",
      "}\n",
      "The last article is :{\n",
      "  \"saved\": false,\n",
      "  \"_id\": \"5b9148132e6d310014419a6e\",\n",
      "  \"headline\": \"Your Thursday Briefing\",\n",
      "  \"summary\": \"Here\\u2019s what you need to know to start your day.\",\n",
      "  \"url\": \"https://www.nytimes.com/2018/09/06/briefing/donald-trump-brett-kavanaugh-theranos.html\",\n",
      "  \"date\": \"2018-09-06T15:30:27.168Z\",\n",
      "  \"__v\": 0\n",
      "}\n"
     ]
    }
   ],
   "source": [
    "# Print first and last articles\n",
    "length=len(data)\n",
    "print(length)\n",
    "print(f'The First article is:{json.dumps(data[0],indent=2)}')\n",
    "print(f'The last article is :{json.dumps(data[(length-1)],indent=2)}')"
   ]
  },
  {
   "cell_type": "code",
   "execution_count": null,
   "metadata": {
    "collapsed": true
   },
   "outputs": [],
   "source": [
    "#Print the number of responses received."
   ]
  }
 ],
 "metadata": {
  "kernelspec": {
   "display_name": "Python 3",
   "language": "python",
   "name": "python3"
  },
  "language_info": {
   "codemirror_mode": {
    "name": "ipython",
    "version": 3
   },
   "file_extension": ".py",
   "mimetype": "text/x-python",
   "name": "python",
   "nbconvert_exporter": "python",
   "pygments_lexer": "ipython3",
   "version": "3.6.5"
  },
  "varInspector": {
   "cols": {
    "lenName": 16,
    "lenType": 16,
    "lenVar": 40
   },
   "kernels_config": {
    "python": {
     "delete_cmd_postfix": "",
     "delete_cmd_prefix": "del ",
     "library": "var_list.py",
     "varRefreshCmd": "print(var_dic_list())"
    },
    "r": {
     "delete_cmd_postfix": ") ",
     "delete_cmd_prefix": "rm(",
     "library": "var_list.r",
     "varRefreshCmd": "cat(var_dic_list()) "
    }
   },
   "types_to_exclude": [
    "module",
    "function",
    "builtin_function_or_method",
    "instance",
    "_Feature"
   ],
   "window_display": false
  }
 },
 "nbformat": 4,
 "nbformat_minor": 2
}
