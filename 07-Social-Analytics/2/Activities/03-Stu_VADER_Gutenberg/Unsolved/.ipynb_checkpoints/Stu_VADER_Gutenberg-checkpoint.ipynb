{
 "cells": [
  {
   "cell_type": "code",
   "execution_count": 1,
   "metadata": {},
   "outputs": [],
   "source": [
    "# Import and Initialize Sentiment Analyzer\n",
    "from vaderSentiment.vaderSentiment import SentimentIntensityAnalyzer\n",
    "analyzer = SentimentIntensityAnalyzer()"
   ]
  },
  {
   "cell_type": "code",
   "execution_count": null,
   "metadata": {},
   "outputs": [],
   "source": [
    "def get_sample(sample_file):\n",
    "    with open(sample_file)as sample:\n",
    "        return sample.read()"
   ]
  },
  {
   "cell_type": "code",
   "execution_count": 7,
   "metadata": {},
   "outputs": [],
   "source": [
    "# Placeholder for sample text\n",
    "#se you think those vampires won't approve of you, correct?That's right, I answered immediately, hiding my surprise at his casual use of the word.He shook his head.You're incredible. \"\n",
    "sample1=get_sample(\"../Resources/Sample1.txt\")\n",
    "sample2=get_sample(\"../Resources/Sample2.txt\")\n",
    "sample3=get_sample(\"../Resources/Sample3.txt\")\n",
    "# Create a tuple of the samples\n",
    "samples = (sample1, sample2, sample3)\n",
    "samples\n"
   ]
  },
  {
   "cell_type": "code",
   "execution_count": 22,
   "metadata": {},
   "outputs": [
    {
     "name": "stdout",
     "output_type": "stream",
     "text": [
      "One morning, when Gregor Samsa woke from troubled dreams, he found himself transformed in his bed into a horrible vermin. He lay on his armour-like back, and if he lifted his head a little he could see his brown belly, slightly domed and divided by arches into stiff sections. The bedding was hardly able to cover it and seemed ready to slide off any moment. His many legs, pitifully thin compared with the size of the rest of him, waved about helplessly as he looked.\n",
      "Compound Score:-0.7096\n",
      "Neutral Score:0.825\n",
      "Negative Score:0.119\n",
      "Positive Score:0.056\n",
      "\n",
      "When we recognise the virtues, the talent, the beauty of Mother Earth, something is born in us, some kind of connection, love is born.\n",
      "Compound Score:0.9231\n",
      "Neutral Score:0.601\n",
      "Negative Score:0.0\n",
      "Positive Score:0.399\n",
      "\n",
      "And you're worried, not because you're headed to meet a houseful of vampires, but because you think those vampires won't approve of you, correct?That's right, I answered immediately, hiding my surprise at his casual use of the word.He shook his head.You're incredible. \n",
      "Compound Score:-0.0387\n",
      "Neutral Score:0.763\n",
      "Negative Score:0.131\n",
      "Positive Score:0.106\n",
      "\n"
     ]
    }
   ],
   "source": [
    "# Run Vader Sentiment Analysis on Each of the Samples\n",
    "#result_sample3=analyzer.polarity_scores(target)\n",
    "\n",
    "# Loop through each sample and print the scores\n",
    "for sample in samples:\n",
    "    result=analyzer.polarity_scores(sample)\n",
    "\n",
    "    print(sample)\n",
    "    print(f\"Compound Score:{result['compound']}\")\n",
    "    print(f\"Neutral Score:{result['neu']}\")\n",
    "    print(f\"Negative Score:{result['neg']}\")\n",
    "    print(f\"Positive Score:{result['pos']}\")\n",
    "    print()\n",
    "# YOUR CODE HERE"
   ]
  },
  {
   "cell_type": "code",
   "execution_count": 9,
   "metadata": {},
   "outputs": [
    {
     "data": {
      "text/plain": [
       "{'neg': 0.119, 'neu': 0.825, 'pos': 0.056, 'compound': -0.7096}"
      ]
     },
     "execution_count": 9,
     "metadata": {},
     "output_type": "execute_result"
    }
   ],
   "source": [
    "result_sample1"
   ]
  },
  {
   "cell_type": "code",
   "execution_count": 11,
   "metadata": {},
   "outputs": [
    {
     "data": {
      "text/plain": [
       "{'neg': 0.119, 'neu': 0.825, 'pos': 0.056, 'compound': -0.7096}"
      ]
     },
     "execution_count": 11,
     "metadata": {},
     "output_type": "execute_result"
    }
   ],
   "source": [
    "result_sample2"
   ]
  },
  {
   "cell_type": "code",
   "execution_count": 13,
   "metadata": {},
   "outputs": [
    {
     "data": {
      "text/plain": [
       "{'neg': 0.119, 'neu': 0.825, 'pos': 0.056, 'compound': -0.7096}"
      ]
     },
     "execution_count": 13,
     "metadata": {},
     "output_type": "execute_result"
    }
   ],
   "source": [
    "result_sample3"
   ]
  },
  {
   "cell_type": "code",
   "execution_count": null,
   "metadata": {},
   "outputs": [],
   "source": []
  }
 ],
 "metadata": {
  "kernelspec": {
   "display_name": "Python [default]",
   "language": "python",
   "name": "python3"
  },
  "language_info": {
   "codemirror_mode": {
    "name": "ipython",
    "version": 3
   },
   "file_extension": ".py",
   "mimetype": "text/x-python",
   "name": "python",
   "nbconvert_exporter": "python",
   "pygments_lexer": "ipython3",
   "version": "3.6.5"
  },
  "varInspector": {
   "cols": {
    "lenName": 16,
    "lenType": 16,
    "lenVar": 40
   },
   "kernels_config": {
    "python": {
     "delete_cmd_postfix": "",
     "delete_cmd_prefix": "del ",
     "library": "var_list.py",
     "varRefreshCmd": "print(var_dic_list())"
    },
    "r": {
     "delete_cmd_postfix": ") ",
     "delete_cmd_prefix": "rm(",
     "library": "var_list.r",
     "varRefreshCmd": "cat(var_dic_list()) "
    }
   },
   "types_to_exclude": [
    "module",
    "function",
    "builtin_function_or_method",
    "instance",
    "_Feature"
   ],
   "window_display": false
  }
 },
 "nbformat": 4,
 "nbformat_minor": 2
}
