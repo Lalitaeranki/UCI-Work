{
 "cells": [
  {
   "cell_type": "code",
   "execution_count": 3,
   "metadata": {},
   "outputs": [],
   "source": [
    "# Dependencies\n",
    "import tweepy\n",
    "import json\n",
    "import numpy as np\n",
    "from datetime import datetime\n",
    "import matplotlib.pyplot as plt\n",
    "from config import consumer_key, consumer_secret, access_token, access_token_secret\n",
    "#from config import get_tweepy_api\n",
    "# Setup Tweepy API Authentication\n",
    "def get_tweepy_api():\n",
    "    auth = tweepy.OAuthHandler(consumer_key, consumer_secret)\n",
    "    auth.set_access_token(access_token, access_token_secret)\n",
    "    return tweepy.API(auth, parser=tweepy.parsers.JSONParser())\n",
    "api=get_tweepy_api()"
   ]
  },
  {
   "cell_type": "code",
   "execution_count": 4,
   "metadata": {},
   "outputs": [
    {
     "name": "stdout",
     "output_type": "stream",
     "text": [
      "#bigdata\n",
      "Avg. Seconds Between Tweets: 4.928571428571429\n",
      "#ai\n",
      "Avg. Seconds Between Tweets: 2.2857142857142856\n",
      "#vr\n",
      "Avg. Seconds Between Tweets: 23.615384615384617\n",
      "#foreverchuck\n",
      "Avg. Seconds Between Tweets: 2436.9285714285716\n",
      "\n"
     ]
    }
   ],
   "source": [
    "# Target Hashtags\n",
    "target_tags = [\"#bigdata\", \"#ai\", \"#vr\", \"#foreverchuck\"]\n",
    "time_between_tweets = []\n",
    "\n",
    "# Loop through each hashtag\n",
    "for tag in target_tags:\n",
    "    \n",
    "    # Create a list to record all date-times of tweets\n",
    "    tweet_times = []\n",
    "\n",
    "    # Get 100 tweets on targeted tag\n",
    "    public_tweets = api.search(tag, rpp=100)\n",
    "    print(tag)\n",
    "\n",
    "    # Loop through all tweets\n",
    "    for tweet in public_tweets[\"statuses\"]:\n",
    "\n",
    "        # Store all tweet times into the list\n",
    "        tweet_times.append(tweet[\"created_at\"])\n",
    "    \n",
    "    # Convert all tweet times into datetime objects\n",
    "    \n",
    "    # First, create a list to hold the datetime objects\n",
    "    tweet_time=[]\n",
    "    for x in range(len(tweet_times)):\n",
    "        tweet_datetime=datetime.strptime(tweet_times[x],\"%a %b %d %H:%M:%S %z %Y\")\n",
    "        tweet_time.append(tweet_datetime)\n",
    "\n",
    "\n",
    "    # Convert and add each datetime object into the list\n",
    "    time_in_bwt=[]\n",
    "\n",
    "    # Calculate the time between tweets\n",
    "    for x in range(len(tweet_time)-1):\n",
    "        sec_apart=((tweet_time[x]-tweet_time[x+1]).seconds)\n",
    "        time_in_bwt.append(sec_apart)\n",
    "        \n",
    "    # First, create a list to hold the time intervals\n",
    "\n",
    "\n",
    "    # Calculate the time between one tweet to the next, then add it to the list\n",
    "  \n",
    "\n",
    "    # Seconds Between Tweets\n",
    "    print(f\"Avg. Seconds Between Tweets: {np.mean(time_in_bwt)}\")\n",
    "print()"
   ]
  },
  {
   "cell_type": "code",
   "execution_count": null,
   "metadata": {},
   "outputs": [],
   "source": []
  }
 ],
 "metadata": {
  "anaconda-cloud": {},
  "kernelspec": {
   "display_name": "Python [default]",
   "language": "python",
   "name": "python3"
  },
  "language_info": {
   "codemirror_mode": {
    "name": "ipython",
    "version": 3
   },
   "file_extension": ".py",
   "mimetype": "text/x-python",
   "name": "python",
   "nbconvert_exporter": "python",
   "pygments_lexer": "ipython3",
   "version": "3.6.5"
  },
  "varInspector": {
   "cols": {
    "lenName": 16,
    "lenType": 16,
    "lenVar": 40
   },
   "kernels_config": {
    "python": {
     "delete_cmd_postfix": "",
     "delete_cmd_prefix": "del ",
     "library": "var_list.py",
     "varRefreshCmd": "print(var_dic_list())"
    },
    "r": {
     "delete_cmd_postfix": ") ",
     "delete_cmd_prefix": "rm(",
     "library": "var_list.r",
     "varRefreshCmd": "cat(var_dic_list()) "
    }
   },
   "types_to_exclude": [
    "module",
    "function",
    "builtin_function_or_method",
    "instance",
    "_Feature"
   ],
   "window_display": false
  }
 },
 "nbformat": 4,
 "nbformat_minor": 1
}
