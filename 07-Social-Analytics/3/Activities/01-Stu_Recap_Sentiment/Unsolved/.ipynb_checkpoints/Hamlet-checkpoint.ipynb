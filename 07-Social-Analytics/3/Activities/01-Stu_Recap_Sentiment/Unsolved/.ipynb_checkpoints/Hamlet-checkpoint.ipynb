{
 "cells": [
  {
   "cell_type": "code",
   "execution_count": 4,
   "metadata": {},
   "outputs": [],
   "source": [
    "# Import and Initialize Sentiment Analyzer\n",
    "import pandas as pd\n",
    "import numpy as np\n",
    "import tweepy\n",
    "from datetime import datetime\n",
    "import matplotlib.pyplot as plt\n",
    "from vaderSentiment.vaderSentiment import SentimentIntensityAnalyzer\n",
    "analyzer = SentimentIntensityAnalyzer()\n",
    "# YOUR CODE HERE"
   ]
  },
  {
   "cell_type": "code",
   "execution_count": 5,
   "metadata": {},
   "outputs": [],
   "source": [
    "# Passage\n",
    "HamletPassage = \"\"\"To be, or not to be: that is the question: Whether 'tis\n",
    "nobler in the mind to suffer The slings and arrows of outrageous fortune, Or\n",
    "to take arms against a sea of troubles, And by opposing end them? To die: to\n",
    "sleep; No more; and by a sleep to say we end The heart-ache and the thousand\n",
    "natural shocks That flesh is heir to, 'tis a consummation Devoutly to be\n",
    "wish'd. To die, to sleep; To sleep: perchance to dream: ay, there's the rub;\n",
    "For in that sleep of death what dreams may come When we have shuffled off this\n",
    "mortal coil, Must give us pause: there's the respect That makes calamity of so\n",
    "long life; For who would bear the whips and scorns of time, The oppressor's\n",
    "wrong, the proud man's contumely, The pangs of despised love, the law's delay,\n",
    "The insolence of office and the spurns That patient merit of the unworthy\n",
    "takes, When he himself might his quietus make With a bare bodkin? who would\n",
    "fardels bear, To grunt and sweat under a weary life, But that the dread of\n",
    "something after death, The undiscover'd country from whose bourn No traveller\n",
    "returns, puzzles the will And makes us rather bear those ills we have Than fly\n",
    "to others that we know not of? Thus conscience does make cowards of us all;\n",
    "And thus the native hue of resolution Is sicklied o'er with the pale cast of\n",
    "thought, And enterprises of great pith and moment With this regard their\n",
    "currents turn awry, And lose the name of action.--Soft you now! The fair\n",
    "Ophelia! Nymph, in thy orisons Be all my sins remember'd.\"\"\""
   ]
  },
  {
   "cell_type": "code",
   "execution_count": 8,
   "metadata": {},
   "outputs": [],
   "source": [
    "# Run Vader Analysis on Passage\n",
    "# YOUR CODE HERE\n",
    "result = analyzer.polarity_scores(HamletPassage)\n",
    "compound=result[\"compound\"]\n",
    "pos = result[\"pos\"]\n",
    "neu = result[\"neu\"]\n",
    "neg = result[\"neg\"]"
   ]
  },
  {
   "cell_type": "code",
   "execution_count": 11,
   "metadata": {},
   "outputs": [
    {
     "name": "stdout",
     "output_type": "stream",
     "text": [
      "Postive 0.082,Negative:0.17,Compund:-0.9805,Neutral:0.748 sentiments on the passage\n"
     ]
    }
   ],
   "source": [
    "# Print Analysis\n",
    "# YOUR CODE HERE\n",
    "print(f'Postive {pos},Negative:{neg},Compund:{compound},Neutral:{neu} sentiments on the passage')"
   ]
  },
  {
   "cell_type": "code",
   "execution_count": null,
   "metadata": {
    "collapsed": true
   },
   "outputs": [],
   "source": []
  }
 ],
 "metadata": {
  "kernelspec": {
   "display_name": "Python [default]",
   "language": "python",
   "name": "python3"
  },
  "language_info": {
   "codemirror_mode": {
    "name": "ipython",
    "version": 3
   },
   "file_extension": ".py",
   "mimetype": "text/x-python",
   "name": "python",
   "nbconvert_exporter": "python",
   "pygments_lexer": "ipython3",
   "version": "3.6.5"
  }
 },
 "nbformat": 4,
 "nbformat_minor": 2
}
