{
 "cells": [
  {
   "cell_type": "code",
   "execution_count": 7,
   "metadata": {},
   "outputs": [],
   "source": [
    "# Define the Surfer Class  Create a class `Surfer` and initialize it with name, hometown, and rank instance variables.\n",
    "class Surfer():\n",
    "    def __init__(self,name,hometown,rank):\n",
    "        self.name=f\"{name}Dude\"\n",
    "        self.hometown=f\"{hometown}Waves\"\n",
    "        self.rank=rank"
   ]
  },
  {
   "cell_type": "code",
   "execution_count": 8,
   "metadata": {},
   "outputs": [],
   "source": [
    "# Create an instance of the Surfer Class\n",
    "surfer1=Surfer(\"Ryan\",\"NewYork\",3)\n",
    "Surfer2=Surfer(\"Mowa\",\"Las Vegas\",4)\n",
    "Celeb=Surfer(\"Celeb\",\"Aliso Viejo\",22)\n"
   ]
  },
  {
   "cell_type": "code",
   "execution_count": 9,
   "metadata": {},
   "outputs": [
    {
     "name": "stdout",
     "output_type": "stream",
     "text": [
      "RyanDude\n",
      "NewYorkWaves\n",
      "3\n"
     ]
    }
   ],
   "source": [
    "# Print the object's attributes\n",
    "print(surfer1.name)\n",
    "print(surfer1.hometown)\n",
    "print(surfer1.rank)"
   ]
  },
  {
   "cell_type": "code",
   "execution_count": 11,
   "metadata": {},
   "outputs": [],
   "source": [
    "def print_surfer(surfer):\n",
    "    print(surfer.name)\n",
    "    print(surfer.hometown)\n",
    "    print(surfer.rank)"
   ]
  },
  {
   "cell_type": "code",
   "execution_count": 12,
   "metadata": {},
   "outputs": [
    {
     "name": "stdout",
     "output_type": "stream",
     "text": [
      "RyanDude\n",
      "NewYorkWaves\n",
      "3\n"
     ]
    }
   ],
   "source": [
    "print_surfer(surfer1)"
   ]
  },
  {
   "cell_type": "code",
   "execution_count": 14,
   "metadata": {},
   "outputs": [
    {
     "name": "stdout",
     "output_type": "stream",
     "text": [
      "Enter the name, hometown,rankmowa\n",
      "Enter hometownbeach\n",
      "enter rank2\n",
      "mowaDude\n",
      "beachWaves\n",
      "2\n",
      "do you want to continue?(y/n)n\n"
     ]
    }
   ],
   "source": [
    "# ----BONUS----\n",
    "# Variable to keep track of changes to while loop\n",
    "go=True\n",
    "name=input(\"Enter the name \")\n",
    "hometown=input(\"Enter hometown\")\n",
    "rank=input(\"enter rank\")\n",
    "surfer_info=Surfer(name,hometown,rank)\n",
    "print_surfer(surfer_info)\n",
    "check=input(\"do you want to continue?(y/n)\")\n",
    "if check.lower()!=\"y\":\n",
    "    go=False\n"
   ]
  },
  {
   "cell_type": "code",
   "execution_count": null,
   "metadata": {},
   "outputs": [],
   "source": []
  }
 ],
 "metadata": {
  "kernelspec": {
   "display_name": "Python [default]",
   "language": "python",
   "name": "python3"
  },
  "language_info": {
   "codemirror_mode": {
    "name": "ipython",
    "version": 3
   },
   "file_extension": ".py",
   "mimetype": "text/x-python",
   "name": "python",
   "nbconvert_exporter": "python",
   "pygments_lexer": "ipython3",
   "version": "3.6.5"
  },
  "varInspector": {
   "cols": {
    "lenName": 16,
    "lenType": 16,
    "lenVar": 40
   },
   "kernels_config": {
    "python": {
     "delete_cmd_postfix": "",
     "delete_cmd_prefix": "del ",
     "library": "var_list.py",
     "varRefreshCmd": "print(var_dic_list())"
    },
    "r": {
     "delete_cmd_postfix": ") ",
     "delete_cmd_prefix": "rm(",
     "library": "var_list.r",
     "varRefreshCmd": "cat(var_dic_list()) "
    }
   },
   "types_to_exclude": [
    "module",
    "function",
    "builtin_function_or_method",
    "instance",
    "_Feature"
   ],
   "window_display": false
  }
 },
 "nbformat": 4,
 "nbformat_minor": 2
}
