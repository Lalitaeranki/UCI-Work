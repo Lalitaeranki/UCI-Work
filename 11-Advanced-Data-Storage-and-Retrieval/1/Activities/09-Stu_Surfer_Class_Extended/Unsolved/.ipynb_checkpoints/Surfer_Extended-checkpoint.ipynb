{
 "cells": [
  {
   "cell_type": "code",
   "execution_count": 10,
   "metadata": {},
   "outputs": [],
   "source": [
    "# Define the Surfer Class\n",
    "class Surfer():\n",
    "    surfer_count=0\n",
    "    def __init__(self,name, hometown,rank,wipeouts=0):\n",
    "        self.name=name\n",
    "        self.hometown=hometown\n",
    "        self.rank=rank\n",
    "        self.wipeouts=wipeouts\n",
    "        Surfer.surfer_count+=1\n",
    "        \n",
    "    def speak(self):\n",
    "        print(f\"Hangs loose, bruh!\")\n",
    "    def biography(self):\n",
    "        print(f\"My name is {self.name},hometown{self.hometown},rank is {self.rank},I wiped out{self.wipeouts}\")\n",
    "    def cheer(self):\n",
    "        if self.wipeouts==0:\n",
    "            print(\"I totally rock\")\n",
    "        else:\n",
    "            print(\"Bummer\")\n",
    "            \n",
    "    def print_surfer(surfer):\n",
    "        print(surfer.name)\n",
    "        print(surfer.hometown)\n",
    "        print(surfer.rank)\n",
    "        print(surfer.wipeouts)\n",
    "    def count_surfers(self):\n",
    "        print(f\"Total Surfersshredding waves{Surfer.surfer_count}\")\n",
    "        \n",
    "    "
   ]
  },
  {
   "cell_type": "code",
   "execution_count": 11,
   "metadata": {},
   "outputs": [
    {
     "name": "stdout",
     "output_type": "stream",
     "text": [
      "Ryan\n",
      "Daytona Beach\n",
      "3\n",
      "4\n",
      "Hangs loose, bruh!\n",
      "My name is Ryan,hometownDaytona Beach,rank is 3,I wiped out4\n",
      "Bummer\n",
      "Total Surfersshredding waves1\n"
     ]
    }
   ],
   "source": [
    "# Create Surfers\n",
    "# --------------------------------------------------------------------------------\n",
    "surfers=Surfer(\"Ryan\",\"Daytona Beach\",3,4)\n",
    "surfers.print_surfer()\n",
    "surfers.speak()\n",
    "surfers.biography()\n",
    "surfers.cheer()\n",
    "surfers.count_surfers()"
   ]
  },
  {
   "cell_type": "code",
   "execution_count": 9,
   "metadata": {},
   "outputs": [
    {
     "ename": "SyntaxError",
     "evalue": "invalid syntax (<ipython-input-9-ecf06825d1d1>, line 3)",
     "output_type": "error",
     "traceback": [
      "\u001b[1;36m  File \u001b[1;32m\"<ipython-input-9-ecf06825d1d1>\"\u001b[1;36m, line \u001b[1;32m3\u001b[0m\n\u001b[1;33m    * Create a method called `biography` that prints the surfer's name and hometown.\u001b[0m\n\u001b[1;37m             ^\u001b[0m\n\u001b[1;31mSyntaxError\u001b[0m\u001b[1;31m:\u001b[0m invalid syntax\n"
     ]
    }
   ],
   "source": [
    "#* Create a method called `speak` that prints \"Hangs loose, bruh!\"\n",
    "\n",
    "* Create a method called `biography` that prints the surfer's name and hometown.\n",
    "\n",
    "* Create a method called `cheer` that will print \"I totally rock man, no wipeouts!\" if the surfer has no wipeouts. Otherwise, it prints 'Bummer bruh, keep on keeping on!'.\n",
    "\n",
    "* Create two surfers that print out all their info and run all the methods."
   ]
  },
  {
   "cell_type": "code",
   "execution_count": null,
   "metadata": {},
   "outputs": [],
   "source": [
    "class Speak"
   ]
  }
 ],
 "metadata": {
  "kernelspec": {
   "display_name": "Python [default]",
   "language": "python",
   "name": "python3"
  },
  "language_info": {
   "codemirror_mode": {
    "name": "ipython",
    "version": 3
   },
   "file_extension": ".py",
   "mimetype": "text/x-python",
   "name": "python",
   "nbconvert_exporter": "python",
   "pygments_lexer": "ipython3",
   "version": "3.6.5"
  },
  "varInspector": {
   "cols": {
    "lenName": 16,
    "lenType": 16,
    "lenVar": 40
   },
   "kernels_config": {
    "python": {
     "delete_cmd_postfix": "",
     "delete_cmd_prefix": "del ",
     "library": "var_list.py",
     "varRefreshCmd": "print(var_dic_list())"
    },
    "r": {
     "delete_cmd_postfix": ") ",
     "delete_cmd_prefix": "rm(",
     "library": "var_list.r",
     "varRefreshCmd": "cat(var_dic_list()) "
    }
   },
   "types_to_exclude": [
    "module",
    "function",
    "builtin_function_or_method",
    "instance",
    "_Feature"
   ],
   "window_display": false
  }
 },
 "nbformat": 4,
 "nbformat_minor": 2
}
